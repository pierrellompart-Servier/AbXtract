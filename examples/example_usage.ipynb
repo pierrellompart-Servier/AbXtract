{
 "cells": [
  {
   "cell_type": "markdown",
   "metadata": {},
   "source": [
    "# AbXtract - Comprehensive Testing and Examples\n",
    "\n",
    "This notebook demonstrates the complete functionality of the AbXtract package for antibody descriptor calculations.\n",
    "\n",
    "## 📚 Table of Contents\n",
    "1. [Setup and Imports](#setup)\n",
    "2. [Configuration Testing](#config)\n",
    "3. [Individual Calculator Testing](#individual)\n",
    "4. [Sequence-based Analysis](#sequence)\n",
    "5. [Structure-based Analysis](#structure)\n",
    "6. [Combined Analysis](#combined)\n",
    "7. [Batch Processing](#batch)\n",
    "8. [Visualization Examples](#viz)\n",
    "9. [Export and Import](#export)"
   ]
  },
  {
   "cell_type": "markdown",
   "metadata": {},
   "source": [
    "## 1. Setup and Imports {#setup}\n",
    "\n",
    "Let's start by importing all necessary modules and setting up the environment."
   ]
  },
  {
   "cell_type": "raw",
   "metadata": {
    "tags": []
   },
   "source": [
    "pip install matplotlib seaborn "
   ]
  },
  {
   "cell_type": "code",
   "execution_count": 1,
   "metadata": {
    "tags": []
   },
   "outputs": [
    {
     "name": "stdout",
     "output_type": "stream",
     "text": [
      "📦 Basic imports successful\n"
     ]
    }
   ],
   "source": [
    "import sys\n",
    "import os\n",
    "import pandas as pd\n",
    "import numpy as np\n",
    "import matplotlib.pyplot as plt\n",
    "import seaborn as sns\n",
    "from pathlib import Path\n",
    "import warnings\n",
    "warnings.filterwarnings('ignore')\n",
    "\n",
    "# Set up matplotlib\n",
    "plt.style.use('default')\n",
    "sns.set_palette(\"husl\")\n",
    "\n",
    "print(\"📦 Basic imports successful\")"
   ]
  },
  {
   "cell_type": "code",
   "execution_count": 2,
   "metadata": {
    "tags": []
   },
   "outputs": [
    {
     "name": "stdout",
     "output_type": "stream",
     "text": [
      "Python path:\n",
      "  /opt/conda/envs/abxtract/lib/python39.zip\n",
      "  /opt/conda/envs/abxtract/lib/python3.9\n",
      "  /opt/conda/envs/abxtract/lib/python3.9/lib-dynload\n",
      "  \n",
      "  /opt/conda/envs/abxtract/lib/python3.9/site-packages\n",
      "\n",
      "AbXtract path exists: True\n",
      "AbXtract path in sys.path: False\n"
     ]
    }
   ],
   "source": [
    "# Check what's actually available\n",
    "import sys\n",
    "print(\"Python path:\")\n",
    "for p in sys.path:\n",
    "    print(f\"  {p}\")\n",
    "\n",
    "# Check if AbXtract directory is accessible\n",
    "import os\n",
    "abxtract_path = \"/home/HX46_FR5/repo_perso/AbXtract\"\n",
    "print(f\"\\nAbXtract path exists: {os.path.exists(abxtract_path)}\")\n",
    "print(f\"AbXtract path in sys.path: {abxtract_path in sys.path}\")"
   ]
  },
  {
   "cell_type": "code",
   "execution_count": 3,
   "metadata": {
    "tags": []
   },
   "outputs": [
    {
     "name": "stdout",
     "output_type": "stream",
     "text": [
      "✅ AbXtract imported successfully!\n"
     ]
    }
   ],
   "source": [
    "import sys\n",
    "import os\n",
    "sys.path.insert(0, '/home/HX46_FR5/repo_perso/AbXtract')\n",
    "\n",
    "# Now try the imports\n",
    "try:\n",
    "    from AbXtract import *\n",
    "    print(\"✅ AbXtract imported successfully!\")\n",
    "except ImportError as e:\n",
    "    print(f\"❌ Still having issues: {e}\")"
   ]
  },
  {
   "cell_type": "code",
   "execution_count": 4,
   "metadata": {
    "tags": []
   },
   "outputs": [
    {
     "name": "stdout",
     "output_type": "stream",
     "text": [
      "🚀 AbXtract imports successful!\n"
     ]
    }
   ],
   "source": [
    "# Import AbXtract modules\n",
    "try:\n",
    "    from AbXtract import AntibodyDescriptorCalculator, Config, load_config\n",
    "    from AbXtract.sequence import (\n",
    "        SequenceLiabilityAnalyzer,\n",
    "        BashourDescriptorCalculator,\n",
    "        PeptideDescriptorCalculator,\n",
    "        AntibodyNumbering\n",
    "    )\n",
    "    from AbXtract.structure import (\n",
    "        SASACalculator,\n",
    "        ChargeAnalyzer,\n",
    "        DSSPAnalyzer,\n",
    "        PropkaAnalyzer,\n",
    "        ArpeggioAnalyzer\n",
    "    )\n",
    "    from AbXtract.utils import (\n",
    "        read_fasta,\n",
    "        write_fasta,\n",
    "        parse_sequence,\n",
    "        validate_sequence\n",
    "    )\n",
    "    \n",
    "    print(\"🚀 AbXtract imports successful!\")\n",
    "    \n",
    "except ImportError as e:\n",
    "    print(f\"❌ Import error: {e}\")\n",
    "    print(\"Please make sure AbXtract is installed and in your Python path\")\n",
    "    sys.exit(1)"
   ]
  },
  {
   "cell_type": "code",
   "execution_count": 5,
   "metadata": {},
   "outputs": [
    {
     "name": "stdout",
     "output_type": "stream",
     "text": [
      "📁 Test data directory: /home/HX46_FR5/repo_perso/AbXtract/examples/data/test\n",
      "📁 Results directory: /home/HX46_FR5/repo_perso/AbXtract/examples/data/test/results\n"
     ]
    }
   ],
   "source": [
    "# Set up test data paths\n",
    "BASE_DIR = Path.cwd() # pass to ../ chmod ../\n",
    "DATA_DIR = BASE_DIR / \"data\" / \"test\"\n",
    "DATA_DIR.mkdir(parents=True, exist_ok=True)\n",
    "\n",
    "# Define test file paths\n",
    "FASTA_FILE = DATA_DIR / \"test_antibody.fasta\"\n",
    "PDB_FILE = DATA_DIR / \"test.pdb\"  # User will provide this\n",
    "RESULTS_DIR = DATA_DIR / \"results\"\n",
    "RESULTS_DIR.mkdir(exist_ok=True)\n",
    "\n",
    "print(f\"📁 Test data directory: {DATA_DIR}\")\n",
    "print(f\"📁 Results directory: {RESULTS_DIR}\")"
   ]
  },
  {
   "cell_type": "markdown",
   "metadata": {},
   "source": [
    "## 2. Configuration Testing {#config}\n",
    "\n",
    "Test the configuration system and external tool availability."
   ]
  },
  {
   "cell_type": "code",
   "execution_count": 6,
   "metadata": {},
   "outputs": [
    {
     "name": "stdout",
     "output_type": "stream",
     "text": [
      "🔧 Default Configuration:\n",
      "  Numbering scheme: imgt\n",
      "  pH: 7.0\n",
      "  Temperature: 25.0°C\n",
      "  Output format: csv\n",
      "  Verbose: True\n"
     ]
    }
   ],
   "source": [
    "# Test default configuration\n",
    "config = Config()\n",
    "print(\"🔧 Default Configuration:\")\n",
    "print(f\"  Numbering scheme: {config.numbering_scheme}\")\n",
    "print(f\"  pH: {config.pH}\")\n",
    "print(f\"  Temperature: {config.temperature}°C\")\n",
    "print(f\"  Output format: {config.output_format}\")\n",
    "print(f\"  Verbose: {config.verbose}\")"
   ]
  },
  {
   "cell_type": "code",
   "execution_count": 7,
   "metadata": {},
   "outputs": [
    {
     "name": "stderr",
     "output_type": "stream",
     "text": [
      "reduce not found at reduce\n"
     ]
    },
    {
     "name": "stdout",
     "output_type": "stream",
     "text": [
      "🛠️ External Tool Status:\n",
      "  dssp: ✅\n",
      "  propka: ✅\n",
      "  arpeggio: ✅\n",
      "  reduce: ❌\n",
      "  muscle: ✅\n",
      "\n",
      "📊 4/5 external tools available\n"
     ]
    }
   ],
   "source": [
    "# Check external tool availability\n",
    "tool_status = config.check_external_tools()\n",
    "print(\"🛠️ External Tool Status:\")\n",
    "for tool, available in tool_status.items():\n",
    "    status = \"✅\" if available else \"❌\"\n",
    "    print(f\"  {tool}: {status}\")\n",
    "\n",
    "# Count available tools\n",
    "available_count = sum(tool_status.values())\n",
    "total_count = len(tool_status)\n",
    "print(f\"\\n📊 {available_count}/{total_count} external tools available\")"
   ]
  },
  {
   "cell_type": "raw",
   "metadata": {},
   "source": [
    "in config.py \n",
    "    \n",
    "    # External tool paths\n",
    "    dssp_path: str = 'dssp'\n",
    "    propka_path: str = 'propka3'\n",
    "    arpeggio_path: str = 'pdbe-arpeggio'\n",
    "    reduce_path: str = 'reduce'\n",
    "    muscle_path: str = 'muscle'\n",
    "\n",
    "which propka3\n",
    "/opt/conda/envs/abxtract/bin/propka3"
   ]
  },
  {
   "cell_type": "code",
   "execution_count": 8,
   "metadata": {},
   "outputs": [
    {
     "name": "stdout",
     "output_type": "stream",
     "text": [
      "🎛️ Custom Configuration created with optimal settings\n",
      "  DSSP enabled: True\n",
      "  PROPKA enabled: True\n",
      "  Arpeggio enabled: True\n"
     ]
    }
   ],
   "source": [
    "# Test custom configuration\n",
    "custom_config = Config.from_dict({\n",
    "    'pH': 7.4,\n",
    "    'numbering_scheme': 'kabat',\n",
    "    'verbose': True,\n",
    "    'calculate_dssp': tool_status.get('dssp', False),\n",
    "    'calculate_propka': tool_status.get('propka', False),\n",
    "    'calculate_arpeggio': tool_status.get('arpeggio', False)\n",
    "})\n",
    "\n",
    "print(\"🎛️ Custom Configuration created with optimal settings\")\n",
    "print(f\"  DSSP enabled: {custom_config.calculate_dssp}\")\n",
    "print(f\"  PROPKA enabled: {custom_config.calculate_propka}\")\n",
    "print(f\"  Arpeggio enabled: {custom_config.calculate_arpeggio}\")"
   ]
  },
  {
   "cell_type": "markdown",
   "metadata": {},
   "source": [
    "## 3. Test Sequences Setup\n",
    "\n",
    "Let's create our test sequences and save them to a FASTA file."
   ]
  },
  {
   "cell_type": "code",
   "execution_count": 9,
   "metadata": {},
   "outputs": [
    {
     "name": "stdout",
     "output_type": "stream",
     "text": [
      "🧬 Heavy chain length: 446 aa\n",
      "🧬 Light chain length: 214 aa\n",
      "🧬 Total antibody length: 660 aa\n"
     ]
    }
   ],
   "source": [
    "# Test antibody sequences (based on therapeutic antibodies)\n",
    "# Heavy chain: Includes realistic VH domain + human IgG1 constant region\n",
    "HEAVY_SEQUENCE = (\n",
    "    \"QVQLVQSGAEVKKPGASVKVSCKASGGTFSSYAISWVRQAPGQGLEWMG\"\n",
    "    \"GIIPIFGTANYAQKFQGRVTITADESTSTAYMELSSLRSEDTAVYYCAR\"\n",
    "    \"SHYGLDYWGQGTLVTVSSASTKGPSVFPLAPSSKSTSGGTAALGCLVKD\"\n",
    "    \"YFPEPVTVSWNSGALTSGVHTFPAVLQSSGLYSLSSVVTVPSSSLGTQT\"\n",
    "    \"YICNVNHKPSNTKVDKKVEPKSCDKTHTCPPCPAPELLGGPSVFLFPPK\"\n",
    "    \"PKDTLMISRTPEVTCVVVDVSHEDPEVKFNWYVDGVEVHNAKTKPREEQ\"\n",
    "    \"YASTYRVVSVLTVLHQDWLNGKEYKCKVSNKALPAPIEKTISKAKGQPR\"\n",
    "    \"EPQVYTLPPSRDELTKNQVSLTCLVKGFYPSDIAVEWESNGQPENNYK\"\n",
    "    \"TTPPVLDSDGSFFLYSKLTVDKSRWQQGNVFSCSVMHEALHNHYTQKS\"\n",
    "    \"LSLSPGK\"\n",
    ")\n",
    "\n",
    "# Light chain: Includes realistic VL domain + human kappa constant region  \n",
    "LIGHT_SEQUENCE = (\n",
    "    \"DIQMTQSPSSLSASVGDRVTITCRASHSISSYLAWYQQKPGKAPKLLIY\"\n",
    "    \"AASSLQSGVPSRFSGSGSGTDFTLTISSLQPEDFATYYCQQSYSTPLTF\"\n",
    "    \"GGGTKVEIKRTVAAPSVFIFPPSDEQLKSGTASVVCLLNNFYPREAKV\"\n",
    "    \"QWKVDNALQSGNSQESVTEQDSKDSTYSLSSTLTLSKADYEKHKVYAC\"\n",
    "    \"EVTHQGLSSPVTKSFNRGEC\"\n",
    ")\n",
    "\n",
    "print(f\"🧬 Heavy chain length: {len(HEAVY_SEQUENCE)} aa\")\n",
    "print(f\"🧬 Light chain length: {len(LIGHT_SEQUENCE)} aa\")\n",
    "print(f\"🧬 Total antibody length: {len(HEAVY_SEQUENCE + LIGHT_SEQUENCE)} aa\")"
   ]
  },
  {
   "cell_type": "code",
   "execution_count": 10,
   "metadata": {},
   "outputs": [
    {
     "name": "stdout",
     "output_type": "stream",
     "text": [
      "✅ Sequence Validation:\n",
      "  Heavy chain: ✅ Valid\n",
      "  Light chain: ✅ Valid\n"
     ]
    }
   ],
   "source": [
    "# Validate sequences\n",
    "heavy_valid, heavy_msg = validate_sequence(HEAVY_SEQUENCE)\n",
    "light_valid, light_msg = validate_sequence(LIGHT_SEQUENCE)\n",
    "\n",
    "print(\"✅ Sequence Validation:\")\n",
    "print(f\"  Heavy chain: {'✅ Valid' if heavy_valid else '❌ Invalid - ' + heavy_msg}\")\n",
    "print(f\"  Light chain: {'✅ Valid' if light_valid else '❌ Invalid - ' + light_msg}\")\n",
    "\n",
    "if not (heavy_valid and light_valid):\n",
    "    raise ValueError(\"Test sequences are invalid!\")"
   ]
  },
  {
   "cell_type": "code",
   "execution_count": 11,
   "metadata": {},
   "outputs": [
    {
     "name": "stdout",
     "output_type": "stream",
     "text": [
      "💾 Test FASTA file created: /home/HX46_FR5/repo_perso/AbXtract/examples/data/test/test_antibody.fasta\n",
      "📖 Loaded 2 sequences from FASTA:\n",
      "  Test_Antibody_Heavy_Chain: 446 aa\n",
      "  Test_Antibody_Light_Chain: 214 aa\n"
     ]
    }
   ],
   "source": [
    "# Create FASTA file for testing\n",
    "test_sequences = {\n",
    "    \"Test_Antibody_Heavy_Chain\": HEAVY_SEQUENCE,\n",
    "    \"Test_Antibody_Light_Chain\": LIGHT_SEQUENCE\n",
    "}\n",
    "\n",
    "write_fasta(test_sequences, FASTA_FILE)\n",
    "print(f\"💾 Test FASTA file created: {FASTA_FILE}\")\n",
    "\n",
    "# Verify we can read it back\n",
    "loaded_sequences = read_fasta(FASTA_FILE)\n",
    "print(f\"📖 Loaded {len(loaded_sequences)} sequences from FASTA:\")\n",
    "for seq_id, seq in loaded_sequences.items():\n",
    "    print(f\"  {seq_id}: {len(seq)} aa\")"
   ]
  },
  {
   "cell_type": "markdown",
   "metadata": {},
   "source": [
    "## 4. Individual Calculator Testing {#individual}\n",
    "\n",
    "Test each calculator module individually to ensure they work correctly."
   ]
  },
  {
   "cell_type": "code",
   "execution_count": 12,
   "metadata": {},
   "outputs": [
    {
     "name": "stdout",
     "output_type": "stream",
     "text": [
      "🔍 Testing Sequence Liability Analyzer...\n",
      "  Found 4 liabilities\n",
      "  Total possible liabilities checked: 12\n",
      "\n",
      "  Detected liabilities:\n",
      "    - Met oxidation (M) in chain L at position [4, ' ']\n",
      "      Sequence: M\n",
      "    - Trp oxidation (W) in chain H at position [118, ' ']\n",
      "      Sequence: W\n",
      "    - Trp oxidation (W) in chain L at position [41, ' ']\n",
      "      Sequence: W\n",
      "    - Polyreactivity (RR VG VV VVV WW WWW WXW) in chain L at position [15, ' ']\n",
      "      Sequence: VG\n"
     ]
    }
   ],
   "source": [
    "# Test Liability Analyzer\n",
    "print(\"🔍 Testing Sequence Liability Analyzer...\")\n",
    "\n",
    "liability_analyzer = SequenceLiabilityAnalyzer()\n",
    "liability_results = liability_analyzer.analyze(\n",
    "    heavy_sequence=HEAVY_SEQUENCE,\n",
    "    light_sequence=LIGHT_SEQUENCE\n",
    ")\n",
    "\n",
    "print(f\"  Found {liability_results['count']} liabilities\")\n",
    "print(f\"  Total possible liabilities checked: {liability_results['total_possible']}\")\n",
    "\n",
    "if liability_results['liabilities']:\n",
    "    print(\"\\n  Detected liabilities:\")\n",
    "    for liability in liability_results['liabilities'][:5]:  # Show first 5\n",
    "        print(f\"    - {liability['name']} in chain {liability['chain']} at position {liability['start_position']}\")\n",
    "        print(f\"      Sequence: {liability['sequence']}\")\n",
    "else:\n",
    "    print(\"  ✅ No sequence liabilities detected\")"
   ]
  },
  {
   "cell_type": "code",
   "execution_count": 13,
   "metadata": {},
   "outputs": [
    {
     "name": "stdout",
     "output_type": "stream",
     "text": [
      "📊 Testing Bashour Descriptor Calculator...\n",
      "  Calculated 38 descriptors for 2 chains\n",
      "  Columns: ['SeqID', 'Seq', 'Dataset', 'Molecular Weight', 'Seq Length', 'Average Residue Weight', 'pI', 'Charges (all pH values)', 'Charge_pH_1', 'Charge_pH_2']...\n",
      "\n",
      "  Key descriptors:\n"
     ]
    },
    {
     "data": {
      "text/html": [
       "<div>\n",
       "<style scoped>\n",
       "    .dataframe tbody tr th:only-of-type {\n",
       "        vertical-align: middle;\n",
       "    }\n",
       "\n",
       "    .dataframe tbody tr th {\n",
       "        vertical-align: top;\n",
       "    }\n",
       "\n",
       "    .dataframe thead th {\n",
       "        text-align: right;\n",
       "    }\n",
       "</style>\n",
       "<table border=\"1\" class=\"dataframe\">\n",
       "  <thead>\n",
       "    <tr style=\"text-align: right;\">\n",
       "      <th></th>\n",
       "      <th>SeqID</th>\n",
       "      <th>Seq</th>\n",
       "      <th>Dataset</th>\n",
       "      <th>Molecular Weight</th>\n",
       "      <th>Seq Length</th>\n",
       "      <th>Average Residue Weight</th>\n",
       "      <th>pI</th>\n",
       "      <th>Charges (all pH values)</th>\n",
       "      <th>Charge_pH_1</th>\n",
       "      <th>Charge_pH_2</th>\n",
       "      <th>...</th>\n",
       "      <th>Hydrophobicity</th>\n",
       "      <th>Hydrophobic moment</th>\n",
       "      <th>Aromatic content</th>\n",
       "      <th>Tiny content</th>\n",
       "      <th>Small content</th>\n",
       "      <th>Aliphatic content</th>\n",
       "      <th>Nonpolar content</th>\n",
       "      <th>Polar content</th>\n",
       "      <th>Basic content</th>\n",
       "      <th>Acidic content</th>\n",
       "    </tr>\n",
       "  </thead>\n",
       "  <tbody>\n",
       "    <tr>\n",
       "      <th>0</th>\n",
       "      <td>Heavy</td>\n",
       "      <td>QVQLVQSGAEVKKPGASVKVSCKASGGTFSSYAISWVRQAPGQGLE...</td>\n",
       "      <td>Analysis</td>\n",
       "      <td>48473.79784</td>\n",
       "      <td>446</td>\n",
       "      <td>108.685645</td>\n",
       "      <td>8.063751</td>\n",
       "      <td>{1: 53.90808431508109, 2: 53.211917551029444, ...</td>\n",
       "      <td>53.908084</td>\n",
       "      <td>53.211918</td>\n",
       "      <td>...</td>\n",
       "      <td>0.032780</td>\n",
       "      <td>0.702313</td>\n",
       "      <td>11.210762</td>\n",
       "      <td>34.977578</td>\n",
       "      <td>59.641256</td>\n",
       "      <td>25.112108</td>\n",
       "      <td>52.017937</td>\n",
       "      <td>47.982063</td>\n",
       "      <td>11.883408</td>\n",
       "      <td>8.520179</td>\n",
       "    </tr>\n",
       "    <tr>\n",
       "      <th>1</th>\n",
       "      <td>Light</td>\n",
       "      <td>DIQMTQSPSSLSASVGDRVTITCRASHSISSYLAWYQQKPGKAPKL...</td>\n",
       "      <td>Analysis</td>\n",
       "      <td>23173.78954</td>\n",
       "      <td>214</td>\n",
       "      <td>108.288736</td>\n",
       "      <td>7.590943</td>\n",
       "      <td>{1: 22.931097096179496, 2: 22.43859614650606, ...</td>\n",
       "      <td>22.931097</td>\n",
       "      <td>22.438596</td>\n",
       "      <td>...</td>\n",
       "      <td>-0.000047</td>\n",
       "      <td>0.713866</td>\n",
       "      <td>10.747664</td>\n",
       "      <td>40.186916</td>\n",
       "      <td>58.411215</td>\n",
       "      <td>23.831776</td>\n",
       "      <td>47.196262</td>\n",
       "      <td>52.803738</td>\n",
       "      <td>10.280374</td>\n",
       "      <td>8.411215</td>\n",
       "    </tr>\n",
       "  </tbody>\n",
       "</table>\n",
       "<p>2 rows × 38 columns</p>\n",
       "</div>"
      ],
      "text/plain": [
       "   SeqID                                                Seq   Dataset  \\\n",
       "0  Heavy  QVQLVQSGAEVKKPGASVKVSCKASGGTFSSYAISWVRQAPGQGLE...  Analysis   \n",
       "1  Light  DIQMTQSPSSLSASVGDRVTITCRASHSISSYLAWYQQKPGKAPKL...  Analysis   \n",
       "\n",
       "   Molecular Weight  Seq Length  Average Residue Weight        pI  \\\n",
       "0       48473.79784         446              108.685645  8.063751   \n",
       "1       23173.78954         214              108.288736  7.590943   \n",
       "\n",
       "                             Charges (all pH values)  Charge_pH_1  \\\n",
       "0  {1: 53.90808431508109, 2: 53.211917551029444, ...    53.908084   \n",
       "1  {1: 22.931097096179496, 2: 22.43859614650606, ...    22.931097   \n",
       "\n",
       "   Charge_pH_2  ...  Hydrophobicity  Hydrophobic moment  Aromatic content  \\\n",
       "0    53.211918  ...        0.032780            0.702313         11.210762   \n",
       "1    22.438596  ...       -0.000047            0.713866         10.747664   \n",
       "\n",
       "   Tiny content  Small content  Aliphatic content  Nonpolar content  \\\n",
       "0     34.977578      59.641256          25.112108         52.017937   \n",
       "1     40.186916      58.411215          23.831776         47.196262   \n",
       "\n",
       "   Polar content  Basic content  Acidic content  \n",
       "0      47.982063      11.883408        8.520179  \n",
       "1      52.803738      10.280374        8.411215  \n",
       "\n",
       "[2 rows x 38 columns]"
      ]
     },
     "metadata": {},
     "output_type": "display_data"
    }
   ],
   "source": [
    "# Test Bashour Descriptor Calculator\n",
    "print(\"📊 Testing Bashour Descriptor Calculator...\")\n",
    "\n",
    "bashour_calc = BashourDescriptorCalculator()\n",
    "bashour_results = bashour_calc.calculate({\n",
    "    'Heavy': HEAVY_SEQUENCE,\n",
    "    'Light': LIGHT_SEQUENCE\n",
    "})\n",
    "\n",
    "print(f\"  Calculated {len(bashour_results.columns)} descriptors for {len(bashour_results)} chains\")\n",
    "print(f\"  Columns: {list(bashour_results.columns[:10])}...\")  # First 10 columns\n",
    "\n",
    "# Show some key descriptors\n",
    "if not bashour_results.empty:\n",
    "    print(\"\\n  Key descriptors:\")\n",
    "    display(bashour_results)"
   ]
  },
  {
   "cell_type": "code",
   "execution_count": 14,
   "metadata": {
    "scrolled": true,
    "tags": []
   },
   "outputs": [
    {
     "name": "stdout",
     "output_type": "stream",
     "text": [
      "🔢 Testing Antibody Numbering...\n",
      "  Heavy chain numbered: 116 positions\n",
      "  First 10 positions:\n",
      "      1  Q\n",
      "      2  V\n",
      "      3  Q\n",
      "      4  L\n",
      "      5  V\n",
      "      6  Q\n",
      "      7  S\n",
      "      8  G\n",
      "      9  A\n",
      "     11  E\n",
      "\n",
      "  Identified 3 CDRs:\n",
      "    cdrh1: GGTFSSYA\n",
      "    cdrh2: IIPIFGTA\n",
      "    cdrh3: ARSHYGLDY\n"
     ]
    }
   ],
   "source": [
    "# Test Antibody Numbering\n",
    "print(\"🔢 Testing Antibody Numbering...\")\n",
    "\n",
    "numbering = AntibodyNumbering(scheme='imgt')\n",
    "try:\n",
    "    # Number heavy chain\n",
    "    heavy_numbered = numbering.number_sequence(HEAVY_SEQUENCE, 'H')  # Use VH portion only\n",
    "    print(f\"  Heavy chain numbered: {len(heavy_numbered)} positions\")\n",
    "    \n",
    "    # Show first few positions\n",
    "    print(\"  First 10 positions:\")\n",
    "    for i, ((pos, ins), aa) in enumerate(heavy_numbered[:10]):\n",
    "        print(f\"    {pos:3d}{ins} {aa}\")\n",
    "    \n",
    "    # Get CDR sequences\n",
    "    cdrs = numbering.get_cdr_sequences(heavy_numbered, 'H')\n",
    "    print(f\"\\n  Identified {len(cdrs)} CDRs:\")\n",
    "    for cdr_name, cdr_seq in cdrs.items():\n",
    "        print(f\"    {cdr_name}: {cdr_seq}\")\n",
    "        \n",
    "except Exception as e:\n",
    "    print(f\"  ⚠️ Numbering failed (may need ANARCI installed): {e}\")"
   ]
  },
  {
   "cell_type": "code",
   "execution_count": 15,
   "metadata": {},
   "outputs": [
    {
     "name": "stderr",
     "output_type": "stream",
     "text": [
      "Failed to calculate protpy descriptors: 'numpy.ndarray' object is not callable\n",
      "Failed to calculate protpy descriptors: 'numpy.ndarray' object is not callable\n"
     ]
    },
    {
     "name": "stdout",
     "output_type": "stream",
     "text": [
      "🧪 Testing Peptide Descriptor Calculator...\n",
      "  Calculated descriptors for 2 chains\n",
      "  Total descriptors per chain: 174\n",
      "\n",
      "  Sample descriptors:\n"
     ]
    },
    {
     "data": {
      "text/html": [
       "<div>\n",
       "<style scoped>\n",
       "    .dataframe tbody tr th:only-of-type {\n",
       "        vertical-align: middle;\n",
       "    }\n",
       "\n",
       "    .dataframe tbody tr th {\n",
       "        vertical-align: top;\n",
       "    }\n",
       "\n",
       "    .dataframe thead th {\n",
       "        text-align: right;\n",
       "    }\n",
       "</style>\n",
       "<table border=\"1\" class=\"dataframe\">\n",
       "  <thead>\n",
       "    <tr style=\"text-align: right;\">\n",
       "      <th></th>\n",
       "      <th>chain</th>\n",
       "      <th>sequence</th>\n",
       "      <th>length</th>\n",
       "      <th>aliphatic_index</th>\n",
       "      <th>boman</th>\n",
       "      <th>charge_pH7.4</th>\n",
       "      <th>isoelectric_point</th>\n",
       "      <th>instability_index</th>\n",
       "      <th>molecular_weight</th>\n",
       "      <th>molar_extinction_reduced</th>\n",
       "      <th>...</th>\n",
       "      <th>protpy_aa_N</th>\n",
       "      <th>protpy_aa_P</th>\n",
       "      <th>protpy_aa_Q</th>\n",
       "      <th>protpy_aa_R</th>\n",
       "      <th>protpy_aa_S</th>\n",
       "      <th>protpy_aa_T</th>\n",
       "      <th>protpy_aa_V</th>\n",
       "      <th>protpy_aa_W</th>\n",
       "      <th>protpy_aa_Y</th>\n",
       "      <th>hydrophobic_moment_w5_a100</th>\n",
       "    </tr>\n",
       "  </thead>\n",
       "  <tbody>\n",
       "    <tr>\n",
       "      <th>0</th>\n",
       "      <td>Heavy</td>\n",
       "      <td>QVQLVQSGAEVKKPGASVKVSCKASGGTFSSYAISWVRQAPGQGLE...</td>\n",
       "      <td>446</td>\n",
       "      <td>71.591928</td>\n",
       "      <td>1.358004</td>\n",
       "      <td>3.765413</td>\n",
       "      <td>8.321377</td>\n",
       "      <td>46.153363</td>\n",
       "      <td>48473.79784</td>\n",
       "      <td>NaN</td>\n",
       "      <td>...</td>\n",
       "      <td>0    3.363\n",
       "Name: N, dtype: float64</td>\n",
       "      <td>0    7.623\n",
       "Name: P, dtype: float64</td>\n",
       "      <td>0    4.26\n",
       "Name: Q, dtype: float64</td>\n",
       "      <td>0    2.242\n",
       "Name: R, dtype: float64</td>\n",
       "      <td>0    12.108\n",
       "Name: S, dtype: float64</td>\n",
       "      <td>0    7.848\n",
       "Name: T, dtype: float64</td>\n",
       "      <td>0    10.09\n",
       "Name: V, dtype: float64</td>\n",
       "      <td>0    1.794\n",
       "Name: W, dtype: float64</td>\n",
       "      <td>0    4.26\n",
       "Name: Y, dtype: float64</td>\n",
       "      <td>0.864565</td>\n",
       "    </tr>\n",
       "    <tr>\n",
       "      <th>1</th>\n",
       "      <td>Light</td>\n",
       "      <td>DIQMTQSPSSLSASVGDRVTITCRASHSISSYLAWYQQKPGKAPKL...</td>\n",
       "      <td>214</td>\n",
       "      <td>67.429907</td>\n",
       "      <td>1.643505</td>\n",
       "      <td>0.375036</td>\n",
       "      <td>7.847862</td>\n",
       "      <td>57.210748</td>\n",
       "      <td>23173.78954</td>\n",
       "      <td>NaN</td>\n",
       "      <td>...</td>\n",
       "      <td>0    2.336\n",
       "Name: N, dtype: float64</td>\n",
       "      <td>0    5.14\n",
       "Name: P, dtype: float64</td>\n",
       "      <td>0    6.542\n",
       "Name: Q, dtype: float64</td>\n",
       "      <td>0    2.804\n",
       "Name: R, dtype: float64</td>\n",
       "      <td>0    16.822\n",
       "Name: S, dtype: float64</td>\n",
       "      <td>0    8.411\n",
       "Name: T, dtype: float64</td>\n",
       "      <td>0    6.542\n",
       "Name: V, dtype: float64</td>\n",
       "      <td>0    0.935\n",
       "Name: W, dtype: float64</td>\n",
       "      <td>0    4.673\n",
       "Name: Y, dtype: float64</td>\n",
       "      <td>1.029839</td>\n",
       "    </tr>\n",
       "  </tbody>\n",
       "</table>\n",
       "<p>2 rows × 174 columns</p>\n",
       "</div>"
      ],
      "text/plain": [
       "   chain                                           sequence  length  \\\n",
       "0  Heavy  QVQLVQSGAEVKKPGASVKVSCKASGGTFSSYAISWVRQAPGQGLE...     446   \n",
       "1  Light  DIQMTQSPSSLSASVGDRVTITCRASHSISSYLAWYQQKPGKAPKL...     214   \n",
       "\n",
       "   aliphatic_index     boman  charge_pH7.4  isoelectric_point  \\\n",
       "0        71.591928  1.358004      3.765413           8.321377   \n",
       "1        67.429907  1.643505      0.375036           7.847862   \n",
       "\n",
       "   instability_index  molecular_weight  molar_extinction_reduced  ...  \\\n",
       "0          46.153363       48473.79784                       NaN  ...   \n",
       "1          57.210748       23173.78954                       NaN  ...   \n",
       "\n",
       "                          protpy_aa_N                         protpy_aa_P  \\\n",
       "0  0    3.363\n",
       "Name: N, dtype: float64  0    7.623\n",
       "Name: P, dtype: float64   \n",
       "1  0    2.336\n",
       "Name: N, dtype: float64   0    5.14\n",
       "Name: P, dtype: float64   \n",
       "\n",
       "                          protpy_aa_Q                         protpy_aa_R  \\\n",
       "0   0    4.26\n",
       "Name: Q, dtype: float64  0    2.242\n",
       "Name: R, dtype: float64   \n",
       "1  0    6.542\n",
       "Name: Q, dtype: float64  0    2.804\n",
       "Name: R, dtype: float64   \n",
       "\n",
       "                           protpy_aa_S                         protpy_aa_T  \\\n",
       "0  0    12.108\n",
       "Name: S, dtype: float64  0    7.848\n",
       "Name: T, dtype: float64   \n",
       "1  0    16.822\n",
       "Name: S, dtype: float64  0    8.411\n",
       "Name: T, dtype: float64   \n",
       "\n",
       "                          protpy_aa_V                         protpy_aa_W  \\\n",
       "0  0    10.09\n",
       "Name: V, dtype: float64  0    1.794\n",
       "Name: W, dtype: float64   \n",
       "1  0    6.542\n",
       "Name: V, dtype: float64  0    0.935\n",
       "Name: W, dtype: float64   \n",
       "\n",
       "                          protpy_aa_Y  hydrophobic_moment_w5_a100  \n",
       "0   0    4.26\n",
       "Name: Y, dtype: float64                    0.864565  \n",
       "1  0    4.673\n",
       "Name: Y, dtype: float64                    1.029839  \n",
       "\n",
       "[2 rows x 174 columns]"
      ]
     },
     "metadata": {},
     "output_type": "display_data"
    }
   ],
   "source": [
    "# Test Peptide Descriptor Calculator\n",
    "print(\"🧪 Testing Peptide Descriptor Calculator...\")\n",
    "\n",
    "peptide_calc = PeptideDescriptorCalculator()\n",
    "peptide_results = peptide_calc.calculate_all(\n",
    "    heavy_sequence=HEAVY_SEQUENCE,\n",
    "    light_sequence=LIGHT_SEQUENCE\n",
    ")\n",
    "\n",
    "print(f\"  Calculated descriptors for {len(peptide_results)} chains\")\n",
    "print(f\"  Total descriptors per chain: {len(peptide_results.columns)}\")\n",
    "\n",
    "# Show some interesting descriptors\n",
    "if not peptide_results.empty:\n",
    "    print(\"\\n  Sample descriptors:\")\n",
    "    display(peptide_results)\n"
   ]
  },
  {
   "cell_type": "markdown",
   "metadata": {},
   "source": [
    "## 5. Sequence-based Analysis {#sequence}\n",
    "\n",
    "Now let's test the main AntibodyDescriptorCalculator with sequence-only analysis."
   ]
  },
  {
   "cell_type": "code",
   "execution_count": 16,
   "metadata": {},
   "outputs": [
    {
     "name": "stdout",
     "output_type": "stream",
     "text": [
      "🚀 Initializing AntibodyDescriptorCalculator...\n"
     ]
    },
    {
     "name": "stderr",
     "output_type": "stream",
     "text": [
      "reduce not found at reduce\n",
      "Missing external tools: reduce\n",
      "Some analyses may not be available\n"
     ]
    },
    {
     "name": "stdout",
     "output_type": "stream",
     "text": [
      "✅ Calculator initialized successfully\n"
     ]
    }
   ],
   "source": [
    "# Initialize main calculator\n",
    "print(\"🚀 Initializing AntibodyDescriptorCalculator...\")\n",
    "\n",
    "\n",
    "\n",
    "calc = AntibodyDescriptorCalculator(config=custom_config)\n",
    "print(\"✅ Calculator initialized successfully\")\n",
    "\n",
    "# Check calculator status\n",
    "if hasattr(calc, 'get_calculator_status'):\n",
    "    status = calc.get_calculator_status()\n",
    "    print(\"\\n📋 Calculator Status:\")\n",
    "    for category, calculators in status.items():\n",
    "        if category != 'external_tools':\n",
    "            print(f\"  {category}:\")\n",
    "            for calc_name, calc_info in calculators.items():\n",
    "                enabled = \"✅\" if calc_info.get('enabled', False) else \"⚪\"\n",
    "                print(f\"    {enabled} {calc_name}: {calc_info.get('description', '')}\")"
   ]
  },
  {
   "cell_type": "code",
   "execution_count": 17,
   "metadata": {},
   "outputs": [
    {
     "name": "stdout",
     "output_type": "stream",
     "text": [
      "🧬 Running sequence-based analysis...\n"
     ]
    },
    {
     "name": "stderr",
     "output_type": "stream",
     "text": [
      "Failed to calculate protpy descriptors: 'numpy.ndarray' object is not callable\n",
      "Failed to calculate protpy descriptors: 'numpy.ndarray' object is not callable\n"
     ]
    },
    {
     "name": "stdout",
     "output_type": "stream",
     "text": [
      "✅ Sequence analysis completed!\n",
      "   Results shape: (1, 254)\n",
      "   Columns: 254\n",
      "\n",
      "📊 First 10 columns:\n",
      "                                                                       0\n",
      "SeqID                                                    TestAb_Sequence\n",
      "Type                                                            Antibody\n",
      "Heavy_Length                                                         446\n",
      "Light_Length                                                         214\n",
      "H                      [((1,  ), Q), ((2,  ), V), ((3,  ), Q), ((4,  ...\n",
      "L                      [((1,  ), D), ((2,  ), I), ((3,  ), Q), ((4,  ...\n",
      "Total_Liabilities                                                      0\n",
      "N_Glycosylation_Sites                                                  0\n",
      "Deamidation_Sites                                                      0\n",
      "Oxidation_Sites                                                        0\n"
     ]
    }
   ],
   "source": [
    "# Run sequence-only analysis\n",
    "print(\"🧬 Running sequence-based analysis...\")\n",
    "\n",
    "sequence_results = calc.calculate_sequence_descriptors(\n",
    "    heavy_sequence=HEAVY_SEQUENCE,\n",
    "    light_sequence=LIGHT_SEQUENCE,\n",
    "    sequence_id=\"TestAb_Sequence\"\n",
    ")\n",
    "\n",
    "print(f\"✅ Sequence analysis completed!\")\n",
    "print(f\"   Results shape: {sequence_results.shape}\")\n",
    "print(f\"   Columns: {len(sequence_results.columns)}\")\n",
    "\n",
    "# Display the first few columns\n",
    "print(\"\\n📊 First 10 columns:\")\n",
    "display_cols = list(sequence_results.columns)[:10]\n",
    "print(sequence_results[display_cols].T)"
   ]
  },
  {
   "cell_type": "code",
   "execution_count": 18,
   "metadata": {},
   "outputs": [
    {
     "name": "stdout",
     "output_type": "stream",
     "text": [
      "🔍 Key Sequence Metrics:\n",
      "  Antibody Type: Antibody\n",
      "  Heavy Chain Length: 446 aa\n",
      "  Light Chain Length: 214 aa\n",
      "  Total Liabilities: 0\n",
      "  Molecular Weight: N/A Da\n",
      "  Isoelectric Point: N/A\n",
      "  Instability Index: N/A\n",
      "  GRAVY Score: N/A\n"
     ]
    }
   ],
   "source": [
    "# Analyze key sequence metrics\n",
    "print(\"🔍 Key Sequence Metrics:\")\n",
    "\n",
    "result_row = sequence_results.iloc[0]\n",
    "\n",
    "# Basic properties\n",
    "print(f\"  Antibody Type: {result_row.get('Type', 'Unknown')}\")\n",
    "print(f\"  Heavy Chain Length: {result_row.get('Heavy_Length', 'N/A')} aa\")\n",
    "print(f\"  Light Chain Length: {result_row.get('Light_Length', 'N/A')} aa\")\n",
    "\n",
    "# Liabilities\n",
    "total_liabilities = result_row.get('Total_Liabilities', 0)\n",
    "print(f\"  Total Liabilities: {total_liabilities}\")\n",
    "\n",
    "# Physicochemical properties\n",
    "molecular_weight = result_row.get('Molecular Weight', 'N/A')\n",
    "print(f\"  Molecular Weight: {molecular_weight} Da\")\n",
    "\n",
    "pi_value = result_row.get('pI', 'N/A')\n",
    "print(f\"  Isoelectric Point: {pi_value}\")\n",
    "\n",
    "instability = result_row.get('Instability Index', 'N/A')\n",
    "# stability = \"Stable\" if instability < 40 else \"Unstable\"\n",
    "print(f\"  Instability Index: {instability}\")\n",
    "\n",
    "gravy = result_row.get('Hydrophobicity', result_row.get('gravy', 'N/A'))\n",
    "print(f\"  GRAVY Score: {gravy}\")"
   ]
  },
  {
   "cell_type": "code",
   "execution_count": null,
   "metadata": {},
   "outputs": [],
   "source": []
  },
  {
   "cell_type": "markdown",
   "metadata": {},
   "source": [
    "## 6. Structure-based Analysis {#structure}\n",
    "\n",
    "If a PDB file is available, let's test structure-based analysis."
   ]
  },
  {
   "cell_type": "code",
   "execution_count": 19,
   "metadata": {},
   "outputs": [
    {
     "name": "stdout",
     "output_type": "stream",
     "text": [
      "📁 Found PDB file: /home/HX46_FR5/repo_perso/AbXtract/examples/data/test/test.pdb\n",
      "\n",
      "🏗️ Structure analysis available: True\n"
     ]
    }
   ],
   "source": [
    "# Check if PDB file exists\n",
    "if PDB_FILE.exists():\n",
    "    print(f\"📁 Found PDB file: {PDB_FILE}\")\n",
    "    pdb_available = True\n",
    "else:\n",
    "    print(f\"⚠️ PDB file not found at: {PDB_FILE}\")\n",
    "    print(\"   Structure-based analysis will be skipped.\")\n",
    "    print(\"   Please place your test.pdb file in the data/test directory.\")\n",
    "    pdb_available = False\n",
    "\n",
    "print(f\"\\n🏗️ Structure analysis available: {pdb_available}\")"
   ]
  },
  {
   "cell_type": "code",
   "execution_count": 31,
   "metadata": {},
   "outputs": [
    {
     "name": "stderr",
     "output_type": "stream",
     "text": [
      "@> 937 atoms and 1 coordinate set(s) were parsed in 0.01s.\n",
      "DSSP analysis failed: DSSP failed to produce an output\n",
      "PROPKA failed: usage: propka3 [-h] [-f FILENAMES] [-r REFERENCE] [-c CHAINS]\n",
      "               [-i TITRATE_ONLY] [-t THERMOPHILES] [-a ALIGNMENT]\n",
      "               [-m MUTATIONS] [--version] [-p PARAMETERS]\n",
      "               [--log-level {DEBUG,INFO,WARNING,ERROR,CRITICAL}] [-o PH]\n",
      "               [-w WINDOW WINDOW WINDOW] [-g GRID GRID GRID]\n",
      "               [--mutator MUTATOR] [--mutator-option MUTATOR_OPTIONS] [-d]\n",
      "               [-l] [-k] [-q] [--protonate-all]\n",
      "               input_pdb\n",
      "propka3: error: argument -o/--pH: invalid float value: '/var/tmp/tmp0r2q58b1/test_processed'\n",
      "\n",
      "PDB to CIF conversion failed: 'Structure' object has no attribute 'write_cif'\n",
      "Arpeggio analysis failed: 'Structure' object has no attribute 'write_cif'\n"
     ]
    },
    {
     "name": "stdout",
     "output_type": "stream",
     "text": [
      "✅ Structure analysis completed!\n",
      "   Results shape: (1, 37)\n",
      "   Columns: 37\n",
      "\n",
      "🔍 Key Structure Metrics:\n",
      "  Total SASA: 6587.4 Ų\n",
      "  SAP Score: 17.330\n",
      "  Net Charge: -1.0\n"
     ]
    }
   ],
   "source": [
    "# Run structure analysis if PDB is available\n",
    "\n",
    "structure_results = calc.calculate_structure_descriptors(\n",
    "    pdb_file=PDB_FILE,\n",
    "    structure_id=\"TestAb_Structure\"\n",
    ")\n",
    "\n",
    "print(f\"✅ Structure analysis completed!\")\n",
    "print(f\"   Results shape: {structure_results.shape}\")\n",
    "print(f\"   Columns: {len(structure_results.columns)}\")\n",
    "\n",
    "# Show key structural metrics\n",
    "struct_row = structure_results.iloc[0]\n",
    "print(\"\\n🔍 Key Structure Metrics:\")\n",
    "\n",
    "# SASA metrics\n",
    "total_sasa = struct_row.get('Total_SASA', struct_row.get('total_sasa', 'N/A'))\n",
    "if total_sasa != 'N/A':\n",
    "    print(f\"  Total SASA: {total_sasa:.1f} Ų\")\n",
    "\n",
    "# SAP score\n",
    "sap_score = struct_row.get('SAP_Score', struct_row.get('sap_score', 'N/A'))\n",
    "if sap_score != 'N/A':\n",
    "    print(f\"  SAP Score: {sap_score:.3f}\")\n",
    "\n",
    "# Charge properties\n",
    "net_charge = struct_row.get('net_charge', 'N/A')\n",
    "if net_charge != 'N/A':\n",
    "    print(f\"  Net Charge: {net_charge:.1f}\")\n",
    "\n",
    "# Secondary structure (if DSSP available)\n",
    "# helix_content = struct_row.get('Helix_Content', struct_row.get('helix_content', 'N/A'))\n",
    "# if helix_content != 'N/A':\n",
    "#     print(f\"  Alpha Helix Content: {helix_content:.1%}\")\n",
    "# \n",
    "# sheet_content = struct_row.get('Sheet_Content', struct_row.get('sheet_content', 'N/A'))\n",
    "# if sheet_content != 'N/A':\n",
    "#     print(f\"  Beta Sheet Content: {sheet_content:.1%}\")\n"
   ]
  },
  {
   "cell_type": "markdown",
   "metadata": {},
   "source": [
    "## 7. Combined Analysis {#combined}\n",
    "\n",
    "Run the complete analysis with both sequence and structure (if available)."
   ]
  },
  {
   "cell_type": "code",
   "execution_count": 32,
   "metadata": {},
   "outputs": [
    {
     "name": "stdout",
     "output_type": "stream",
     "text": [
      "🎯 Running complete antibody analysis...\n"
     ]
    },
    {
     "name": "stderr",
     "output_type": "stream",
     "text": [
      "Failed to calculate protpy descriptors: 'numpy.ndarray' object is not callable\n",
      "Failed to calculate protpy descriptors: 'numpy.ndarray' object is not callable\n",
      "@> 937 atoms and 1 coordinate set(s) were parsed in 0.01s.\n",
      "DSSP analysis failed: DSSP failed to produce an output\n",
      "PROPKA failed: usage: propka3 [-h] [-f FILENAMES] [-r REFERENCE] [-c CHAINS]\n",
      "               [-i TITRATE_ONLY] [-t THERMOPHILES] [-a ALIGNMENT]\n",
      "               [-m MUTATIONS] [--version] [-p PARAMETERS]\n",
      "               [--log-level {DEBUG,INFO,WARNING,ERROR,CRITICAL}] [-o PH]\n",
      "               [-w WINDOW WINDOW WINDOW] [-g GRID GRID GRID]\n",
      "               [--mutator MUTATOR] [--mutator-option MUTATOR_OPTIONS] [-d]\n",
      "               [-l] [-k] [-q] [--protonate-all]\n",
      "               input_pdb\n",
      "propka3: error: argument -o/--pH: invalid float value: '/var/tmp/tmpcndrktuo/test_processed'\n",
      "\n",
      "PDB to CIF conversion failed: 'Structure' object has no attribute 'write_cif'\n",
      "Arpeggio analysis failed: 'Structure' object has no attribute 'write_cif'\n"
     ]
    },
    {
     "name": "stdout",
     "output_type": "stream",
     "text": [
      "✅ Complete analysis finished (Sequence + Structure)\n",
      "   Results shape: (1, 294)\n",
      "   Total descriptors: 294\n"
     ]
    }
   ],
   "source": [
    "# Run complete analysis\n",
    "print(\"🎯 Running complete antibody analysis...\")\n",
    "\n",
    "if pdb_available:\n",
    "    # Full analysis with both sequence and structure\n",
    "    complete_results = calc.calculate_all(\n",
    "        heavy_sequence=HEAVY_SEQUENCE,\n",
    "        light_sequence=LIGHT_SEQUENCE,\n",
    "        pdb_file=PDB_FILE,\n",
    "        sample_id=\"TestAb_Complete\"\n",
    "    )\n",
    "    analysis_type = \"Sequence + Structure\"\n",
    "else:\n",
    "    # Sequence-only analysis\n",
    "    complete_results = calc.calculate_all(\n",
    "        heavy_sequence=HEAVY_SEQUENCE,\n",
    "        light_sequence=LIGHT_SEQUENCE,\n",
    "        sample_id=\"TestAb_Complete\"\n",
    "    )\n",
    "    analysis_type = \"Sequence only\"\n",
    "\n",
    "print(f\"✅ Complete analysis finished ({analysis_type})\")\n",
    "print(f\"   Results shape: {complete_results.shape}\")\n",
    "print(f\"   Total descriptors: {len(complete_results.columns)}\")"
   ]
  },
  {
   "cell_type": "code",
   "execution_count": 33,
   "metadata": {},
   "outputs": [
    {
     "name": "stdout",
     "output_type": "stream",
     "text": [
      "📊 Basic Summary:\n",
      "   timestamp: 2025-08-28T09:30:22.478216\n",
      "   n_descriptors_calculated: 291\n",
      "   analyses_performed: ['sequence', 'structure']\n",
      "   n_sequence_descriptors: 254\n",
      "   total_liabilities: 0\n",
      "   heavy_pI: 8.06375063676387\n",
      "   n_structure_descriptors: 37\n"
     ]
    }
   ],
   "source": [
    "# Get detailed summary\n",
    "if hasattr(calc, 'get_detailed_summary'):\n",
    "    summary = calc.get_detailed_summary()\n",
    "    \n",
    "    print(\"📊 Analysis Summary:\")\n",
    "    print(f\"   Timestamp: {summary['timestamp']}\")\n",
    "    print(f\"   Version: {summary['version']}\")\n",
    "    \n",
    "    if 'input_summary' in summary:\n",
    "        input_sum = summary['input_summary']\n",
    "        if 'sequence' in input_sum:\n",
    "            seq_sum = input_sum['sequence']\n",
    "            print(f\"   Antibody Type: {seq_sum['type']}\")\n",
    "            print(f\"   Total Length: {seq_sum['total_length']} aa\")\n",
    "    \n",
    "    if 'results_summary' in summary:\n",
    "        results_sum = summary['results_summary']\n",
    "        print(f\"   Total Descriptors: {results_sum['total_descriptors']}\")\n",
    "        print(f\"   Analysis Categories: {', '.join(results_sum['analyses_performed'])}\")\n",
    "    \n",
    "    if 'key_metrics' in summary:\n",
    "        metrics = summary['key_metrics']\n",
    "        print(\"\\n🎯 Key Metrics:\")\n",
    "        for metric, value in metrics.items():\n",
    "            print(f\"   {metric}: {value}\")\n",
    "\n",
    "else:\n",
    "    # Fallback summary\n",
    "    summary = calc.get_summary()\n",
    "    print(\"📊 Basic Summary:\")\n",
    "    for key, value in summary.items():\n",
    "        print(f\"   {key}: {value}\")"
   ]
  },
  {
   "cell_type": "markdown",
   "metadata": {},
   "source": [
    "## 8. Data Analysis and Insights\n",
    "\n",
    "Let's analyze the calculated descriptors and extract insights."
   ]
  },
  {
   "cell_type": "code",
   "execution_count": 34,
   "metadata": {},
   "outputs": [
    {
     "name": "stdout",
     "output_type": "stream",
     "text": [
      "📊 Descriptor Categories:\n",
      "   Sequence Properties: 200 descriptors\n",
      "     Examples: SampleID, SeqID, Type, ... and 197 more\n",
      "   Physicochemical: 18 descriptors\n",
      "     Examples: Heavy_Molecular Weight, Light_Molecular Weight, Heavy_pI, ... and 15 more\n",
      "   Structural: 3 descriptors\n",
      "     Examples: total_sasa, relative_sasa, Sequence_Structure_Match\n",
      "   Liabilities: 2 descriptors\n",
      "     Examples: N_Glycosylation_Sites, Unpaired_Cysteines\n",
      "   Charge: 38 descriptors\n",
      "     Examples: Heavy_Charges (all pH values), Light_Charges (all pH values), Heavy_Charge_pH_1, ... and 35 more\n",
      "   Other: 33 descriptors\n",
      "     Examples: H, L, Total_Liabilities, ... and 30 more\n"
     ]
    }
   ],
   "source": [
    "# Analyze descriptor categories\n",
    "result_row = complete_results.iloc[0]\n",
    "\n",
    "# Categorize descriptors\n",
    "descriptor_categories = {\n",
    "    'Sequence Properties': [],\n",
    "    'Physicochemical': [],\n",
    "    'Structural': [],\n",
    "    'Liabilities': [],\n",
    "    'Charge': [],\n",
    "    'Other': []\n",
    "}\n",
    "\n",
    "for col in complete_results.columns:\n",
    "    col_lower = col.lower()\n",
    "    if any(x in col_lower for x in ['length', 'type', 'id']):\n",
    "        descriptor_categories['Sequence Properties'].append(col)\n",
    "    elif any(x in col_lower for x in ['molecular', 'pi', 'weight', 'instability', 'hydro', 'gravy']):\n",
    "        descriptor_categories['Physicochemical'].append(col)\n",
    "    elif any(x in col_lower for x in ['sasa', 'helix', 'sheet', 'secondary', 'dssp', 'structure']):\n",
    "        descriptor_categories['Structural'].append(col)\n",
    "    elif any(x in col_lower for x in ['liability', 'glycosyl', 'deamid', 'oxid', 'cysteine']):\n",
    "        descriptor_categories['Liabilities'].append(col)\n",
    "    elif any(x in col_lower for x in ['charge', 'dipole', 'ionic']):\n",
    "        descriptor_categories['Charge'].append(col)\n",
    "    else:\n",
    "        descriptor_categories['Other'].append(col)\n",
    "\n",
    "print(\"📊 Descriptor Categories:\")\n",
    "for category, descriptors in descriptor_categories.items():\n",
    "    if descriptors:\n",
    "        print(f\"   {category}: {len(descriptors)} descriptors\")\n",
    "        # Show a few examples\n",
    "        examples = descriptors[:3]\n",
    "        if len(descriptors) > 3:\n",
    "            examples.append(f\"... and {len(descriptors) - 3} more\")\n",
    "        print(f\"     Examples: {', '.join(examples)}\")"
   ]
  },
  {
   "cell_type": "code",
   "execution_count": 35,
   "metadata": {},
   "outputs": [
    {
     "name": "stdout",
     "output_type": "stream",
     "text": [
      "🎯 Developability Assessment:\n",
      "========================================\n",
      "\n",
      "✅ Positive Aspects:\n",
      "   • No sequence liabilities detected\n",
      "   • Appropriate hydrophobicity (GRAVY: 0.000)\n",
      "\n",
      "⚠️ Areas of Concern:\n",
      "   • Potentially unstable (Instability Index: 40.0)\n",
      "\n",
      "📊 Overall Scores:\n",
      "   ✅ Liabilities: Excellent\n",
      "   🔴 Stability: Poor\n",
      "   🟢 Hydrophobicity: Good\n"
     ]
    }
   ],
   "source": [
    "# Create developability assessment\n",
    "print(\"🎯 Developability Assessment:\")\n",
    "print(\"=\" * 40)\n",
    "\n",
    "# Initialize scores\n",
    "scores = {}\n",
    "issues = []\n",
    "positives = []\n",
    "\n",
    "# Assess liabilities\n",
    "total_liabilities = result_row.get('Total_Liabilities', 0)\n",
    "if total_liabilities == 0:\n",
    "    scores['Liabilities'] = 'Excellent'\n",
    "    positives.append(\"No sequence liabilities detected\")\n",
    "elif total_liabilities <= 2:\n",
    "    scores['Liabilities'] = 'Good'\n",
    "    issues.append(f\"Low liability count ({total_liabilities})\")\n",
    "elif total_liabilities <= 5:\n",
    "    scores['Liabilities'] = 'Moderate'\n",
    "    issues.append(f\"Moderate liability count ({total_liabilities})\")\n",
    "else:\n",
    "    scores['Liabilities'] = 'Poor'\n",
    "    issues.append(f\"High liability count ({total_liabilities})\")\n",
    "\n",
    "# Assess instability\n",
    "instability = result_row.get('Instability Index', 40)\n",
    "if instability < 40:\n",
    "    scores['Stability'] = 'Good'\n",
    "    positives.append(f\"Stable protein (Instability Index: {instability:.1f})\")\n",
    "else:\n",
    "    scores['Stability'] = 'Poor' \n",
    "    issues.append(f\"Potentially unstable (Instability Index: {instability:.1f})\")\n",
    "\n",
    "# Assess hydrophobicity\n",
    "gravy = result_row.get('Hydrophobicity', result_row.get('gravy', 0))\n",
    "if -0.5 <= gravy <= 0:\n",
    "    scores['Hydrophobicity'] = 'Good'\n",
    "    positives.append(f\"Appropriate hydrophobicity (GRAVY: {gravy:.3f})\")\n",
    "elif gravy > 0:\n",
    "    scores['Hydrophobicity'] = 'Moderate'\n",
    "    issues.append(f\"Hydrophobic protein (GRAVY: {gravy:.3f})\")\n",
    "else:\n",
    "    scores['Hydrophobicity'] = 'Moderate'\n",
    "    issues.append(f\"Very hydrophilic (GRAVY: {gravy:.3f})\")\n",
    "\n",
    "# Print assessment\n",
    "print(\"\\n✅ Positive Aspects:\")\n",
    "for positive in positives:\n",
    "    print(f\"   • {positive}\")\n",
    "\n",
    "if issues:\n",
    "    print(\"\\n⚠️ Areas of Concern:\")\n",
    "    for issue in issues:\n",
    "        print(f\"   • {issue}\")\n",
    "\n",
    "print(\"\\n📊 Overall Scores:\")\n",
    "for category, score in scores.items():\n",
    "    emoji = \"✅\" if score == 'Excellent' else \"🟢\" if score == 'Good' else \"🟡\" if score == 'Moderate' else \"🔴\"\n",
    "    print(f\"   {emoji} {category}: {score}\")"
   ]
  },
  {
   "cell_type": "markdown",
   "metadata": {},
   "source": [
    "## 9. Visualization Examples {#viz}\n",
    "\n",
    "Create visualizations of the calculated descriptors."
   ]
  },
  {
   "cell_type": "code",
   "execution_count": 36,
   "metadata": {},
   "outputs": [
    {
     "data": {
      "image/png": "[encoded data removed]",
      "text/plain": [
       "<Figure size 1500x1200 with 4 Axes>"
      ]
     },
     "metadata": {},
     "output_type": "display_data"
    },
    {
     "name": "stdout",
     "output_type": "stream",
     "text": [
      "📊 Plot saved to: /home/HX46_FR5/repo_perso/AbXtract/examples/data/test/results/antibody_analysis_summary.png\n"
     ]
    }
   ],
   "source": [
    "# Set up plotting\n",
    "plt.style.use('seaborn-v0_8-whitegrid')\n",
    "fig, axes = plt.subplots(2, 2, figsize=(15, 12))\n",
    "fig.suptitle('AbXtract Antibody Descriptor Analysis', fontsize=16, fontweight='bold')\n",
    "\n",
    "# 1. Descriptor Category Distribution\n",
    "ax1 = axes[0, 0]\n",
    "categories = list(descriptor_categories.keys())\n",
    "counts = [len(descriptor_categories[cat]) for cat in categories if descriptor_categories[cat]]\n",
    "categories = [cat for cat in categories if descriptor_categories[cat]]\n",
    "\n",
    "colors = plt.cm.Set3(np.linspace(0, 1, len(categories)))\n",
    "wedges, texts, autotexts = ax1.pie(counts, labels=categories, autopct='%1.1f%%', \n",
    "                                   colors=colors, startangle=90)\n",
    "ax1.set_title('Descriptor Distribution by Category')\n",
    "\n",
    "# 2. Key Metrics Bar Chart\n",
    "ax2 = axes[0, 1]\n",
    "metrics = []\n",
    "values = []\n",
    "colors_bar = []\n",
    "\n",
    "# Add key metrics if available\n",
    "if 'Total_Liabilities' in complete_results.columns:\n",
    "    metrics.append('Liabilities')\n",
    "    values.append(result_row['Total_Liabilities'])\n",
    "    colors_bar.append('red' if result_row['Total_Liabilities'] > 3 else 'green')\n",
    "\n",
    "if any(col in complete_results.columns for col in ['Molecular Weight', 'molecular_weight']):\n",
    "    mw_col = next((col for col in ['Molecular Weight', 'molecular_weight'] \n",
    "                   if col in complete_results.columns), None)\n",
    "    if mw_col:\n",
    "        metrics.append('MW (kDa)')\n",
    "        values.append(result_row[mw_col] / 1000)  # Convert to kDa\n",
    "        colors_bar.append('blue')\n",
    "\n",
    "if any(col in complete_results.columns for col in ['pI', 'isoelectric_point']):\n",
    "    pi_col = next((col for col in ['pI', 'isoelectric_point'] \n",
    "                   if col in complete_results.columns), None)\n",
    "    if pi_col:\n",
    "        metrics.append('pI')\n",
    "        values.append(result_row[pi_col])\n",
    "        colors_bar.append('purple')\n",
    "\n",
    "if metrics:\n",
    "    bars = ax2.bar(metrics, values, color=colors_bar, alpha=0.7)\n",
    "    ax2.set_title('Key Antibody Properties')\n",
    "    ax2.set_ylabel('Value')\n",
    "    \n",
    "    # Add value labels on bars\n",
    "    for bar, value in zip(bars, values):\n",
    "        height = bar.get_height()\n",
    "        ax2.text(bar.get_x() + bar.get_width()/2., height,\n",
    "                f'{value:.1f}', ha='center', va='bottom')\n",
    "else:\n",
    "    ax2.text(0.5, 0.5, 'No key metrics\\navailable to plot', \n",
    "             ha='center', va='center', transform=ax2.transAxes)\n",
    "    ax2.set_title('Key Metrics (Data Not Available)')\n",
    "\n",
    "# 3. Liability Breakdown (if available)\n",
    "ax3 = axes[1, 0]\n",
    "liability_types = ['N_Glycosylation_Sites', 'Deamidation_Sites', \n",
    "                   'Oxidation_Sites', 'Unpaired_Cysteines']\n",
    "liability_counts = []\n",
    "liability_labels = []\n",
    "\n",
    "for liability in liability_types:\n",
    "    if liability in complete_results.columns:\n",
    "        count = result_row[liability]\n",
    "        if count > 0:\n",
    "            liability_counts.append(count)\n",
    "            liability_labels.append(liability.replace('_', ' '))\n",
    "\n",
    "if liability_counts:\n",
    "    ax3.bar(liability_labels, liability_counts, color='orange', alpha=0.7)\n",
    "    ax3.set_title('Sequence Liability Breakdown')\n",
    "    ax3.set_ylabel('Count')\n",
    "    ax3.tick_params(axis='x', rotation=45)\n",
    "else:\n",
    "    ax3.text(0.5, 0.5, '✅ No sequence\\nliabilities detected', \n",
    "             ha='center', va='center', transform=ax3.transAxes,\n",
    "             fontsize=14, color='green')\n",
    "    ax3.set_title('Sequence Liabilities')\n",
    "\n",
    "# 4. Developability Score Overview\n",
    "ax4 = axes[1, 1]\n",
    "score_mapping = {'Excellent': 4, 'Good': 3, 'Moderate': 2, 'Poor': 1}\n",
    "score_names = list(scores.keys())\n",
    "score_values = [score_mapping[scores[name]] for name in score_names]\n",
    "score_colors = ['green' if v >= 3 else 'orange' if v >= 2 else 'red' for v in score_values]\n",
    "\n",
    "bars = ax4.barh(score_names, score_values, color=score_colors, alpha=0.7)\n",
    "ax4.set_title('Developability Assessment')\n",
    "ax4.set_xlabel('Score (1=Poor, 4=Excellent)')\n",
    "ax4.set_xlim(0, 4)\n",
    "\n",
    "# Add score labels\n",
    "for bar, score_name in zip(bars, score_names):\n",
    "    width = bar.get_width()\n",
    "    ax4.text(width + 0.1, bar.get_y() + bar.get_height()/2,\n",
    "            scores[score_name], ha='left', va='center')\n",
    "\n",
    "plt.tight_layout()\n",
    "plt.show()\n",
    "\n",
    "# Save the plot\n",
    "plot_path = RESULTS_DIR / 'antibody_analysis_summary.png'\n",
    "fig.savefig(plot_path, dpi=300, bbox_inches='tight')\n",
    "print(f\"📊 Plot saved to: {plot_path}\")"
   ]
  },
  {
   "cell_type": "markdown",
   "metadata": {},
   "source": [
    "## 10. Export and Save Results {#export}\n",
    "\n",
    "Save all results in various formats for further analysis."
   ]
  },
  {
   "cell_type": "code",
   "execution_count": 37,
   "metadata": {},
   "outputs": [
    {
     "name": "stdout",
     "output_type": "stream",
     "text": [
      "💾 Saving results in multiple formats...\n",
      "✅ CSV saved: /home/HX46_FR5/repo_perso/AbXtract/examples/data/test/results/antibody_analysis_20250828_093138.csv\n",
      "✅ Excel saved: /home/HX46_FR5/repo_perso/AbXtract/examples/data/test/results/antibody_analysis_20250828_093138.xlsx\n",
      "✅ JSON saved: /home/HX46_FR5/repo_perso/AbXtract/examples/data/test/results/antibody_analysis_20250828_093138.json\n",
      "\n",
      "📁 All results saved to: /home/HX46_FR5/repo_perso/AbXtract/examples/data/test/results\n"
     ]
    }
   ],
   "source": [
    "# Save results in multiple formats\n",
    "print(\"💾 Saving results in multiple formats...\")\n",
    "\n",
    "timestamp = pd.Timestamp.now().strftime(\"%Y%m%d_%H%M%S\")\n",
    "base_filename = f\"antibody_analysis_{timestamp}\"\n",
    "\n",
    "# CSV format\n",
    "csv_path = RESULTS_DIR / f\"{base_filename}.csv\"\n",
    "complete_results.to_csv(csv_path, index=False)\n",
    "print(f\"✅ CSV saved: {csv_path}\")\n",
    "\n",
    "# Excel format with multiple sheets\n",
    "excel_path = RESULTS_DIR / f\"{base_filename}.xlsx\"\n",
    "with pd.ExcelWriter(excel_path, engine='openpyxl') as writer:\n",
    "    complete_results.to_excel(writer, sheet_name='Complete_Analysis', index=False)\n",
    "    \n",
    "    if sequence_results is not None:\n",
    "        sequence_results.to_excel(writer, sheet_name='Sequence_Only', index=False)\n",
    "    \n",
    "    if structure_results is not None:\n",
    "        structure_results.to_excel(writer, sheet_name='Structure_Only', index=False)\n",
    "    \n",
    "    # Add summary sheet\n",
    "    if hasattr(calc, 'get_detailed_summary'):\n",
    "        summary = calc.get_detailed_summary()\n",
    "        summary_df = pd.DataFrame([summary])\n",
    "        summary_df.to_excel(writer, sheet_name='Summary', index=False)\n",
    "\n",
    "print(f\"✅ Excel saved: {excel_path}\")\n",
    "\n",
    "# JSON format for programmatic access\n",
    "json_path = RESULTS_DIR / f\"{base_filename}.json\"\n",
    "result_dict = complete_results.to_dict(orient='records')[0]\n",
    "\n",
    "# Add metadata\n",
    "export_data = {\n",
    "    'metadata': {\n",
    "        'timestamp': timestamp,\n",
    "        'abxtract_version': calc.metadata.get('version', 'unknown'),\n",
    "        'analysis_type': analysis_type,\n",
    "        'input_sequences': {\n",
    "            'heavy_length': len(HEAVY_SEQUENCE),\n",
    "            'light_length': len(LIGHT_SEQUENCE)\n",
    "        },\n",
    "        'pdb_available': pdb_available\n",
    "    },\n",
    "    'results': result_dict,\n",
    "    'summary': summary if 'summary' in locals() else calc.get_summary()\n",
    "}\n",
    "\n",
    "import json\n",
    "with open(json_path, 'w') as f:\n",
    "    json.dump(export_data, f, indent=2, default=str)\n",
    "print(f\"✅ JSON saved: {json_path}\")\n",
    "\n",
    "print(f\"\\n📁 All results saved to: {RESULTS_DIR}\")"
   ]
  },
  {
   "cell_type": "code",
   "execution_count": 38,
   "metadata": {},
   "outputs": [
    {
     "name": "stdout",
     "output_type": "stream",
     "text": [
      "📄 Analysis report saved: /home/HX46_FR5/repo_perso/AbXtract/examples/data/test/results/analysis_report_20250828_093138.txt\n"
     ]
    }
   ],
   "source": [
    "# Create a summary report\n",
    "report_path = RESULTS_DIR / f\"analysis_report_{timestamp}.txt\"\n",
    "\n",
    "with open(report_path, 'w') as f:\n",
    "    f.write(\"=\" * 60 + \"\\n\")\n",
    "    f.write(\"           AbXtract Antibody Analysis Report\\n\")\n",
    "    f.write(\"=\" * 60 + \"\\n\\n\")\n",
    "    \n",
    "    f.write(f\"Analysis Date: {pd.Timestamp.now().strftime('%Y-%m-%d %H:%M:%S')}\\n\")\n",
    "    f.write(f\"Sample ID: TestAb_Complete\\n\")\n",
    "    f.write(f\"Analysis Type: {analysis_type}\\n\\n\")\n",
    "    \n",
    "    f.write(\"INPUT SUMMARY\\n\")\n",
    "    f.write(\"-\" * 20 + \"\\n\")\n",
    "    f.write(f\"Heavy Chain Length: {len(HEAVY_SEQUENCE)} aa\\n\")\n",
    "    f.write(f\"Light Chain Length: {len(LIGHT_SEQUENCE)} aa\\n\")\n",
    "    f.write(f\"Total Length: {len(HEAVY_SEQUENCE + LIGHT_SEQUENCE)} aa\\n\")\n",
    "    if pdb_available:\n",
    "        f.write(f\"Structure File: {PDB_FILE.name}\\n\")\n",
    "    f.write(\"\\n\")\n",
    "    \n",
    "    f.write(\"DESCRIPTOR SUMMARY\\n\")\n",
    "    f.write(\"-\" * 20 + \"\\n\")\n",
    "    f.write(f\"Total Descriptors Calculated: {len(complete_results.columns)}\\n\")\n",
    "    for category, descriptors in descriptor_categories.items():\n",
    "        if descriptors:\n",
    "            f.write(f\"{category}: {len(descriptors)} descriptors\\n\")\n",
    "    f.write(\"\\n\")\n",
    "    \n",
    "    f.write(\"KEY METRICS\\n\")\n",
    "    f.write(\"-\" * 20 + \"\\n\")\n",
    "    result_row = complete_results.iloc[0]\n",
    "    \n",
    "    # Sequence metrics\n",
    "    f.write(f\"Antibody Type: {result_row.get('Type', 'Unknown')}\\n\")\n",
    "    total_liabilities = result_row.get('Total_Liabilities', 0)\n",
    "    f.write(f\"Total Sequence Liabilities: {total_liabilities}\\n\")\n",
    "    \n",
    "    # Physicochemical metrics\n",
    "    mw = result_row.get('Molecular Weight', result_row.get('molecular_weight', 'N/A'))\n",
    "    if mw != 'N/A':\n",
    "        f.write(f\"Molecular Weight: {mw:.1f} Da\\n\")\n",
    "    \n",
    "    pi = result_row.get('pI', result_row.get('isoelectric_point', 'N/A'))\n",
    "    if pi != 'N/A':\n",
    "        f.write(f\"Isoelectric Point: {pi:.2f}\\n\")\n",
    "    \n",
    "    instability = result_row.get('Instability Index', 'N/A')\n",
    "    if instability != 'N/A':\n",
    "        stability_desc = \"Stable\" if instability < 40 else \"Unstable\"\n",
    "        f.write(f\"Instability Index: {instability:.2f} ({stability_desc})\\n\")\n",
    "    \n",
    "    gravy = result_row.get('Hydrophobicity', result_row.get('gravy', 'N/A'))\n",
    "    if gravy != 'N/A':\n",
    "        hydro_desc = \"Hydrophobic\" if gravy > 0 else \"Hydrophilic\"\n",
    "        f.write(f\"GRAVY Score: {gravy:.3f} ({hydro_desc})\\n\")\n",
    "    \n",
    "    f.write(\"\\n\")\n",
    "    \n",
    "    f.write(\"DEVELOPABILITY ASSESSMENT\\n\")\n",
    "    f.write(\"-\" * 30 + \"\\n\")\n",
    "    for category, score in scores.items():\n",
    "        f.write(f\"{category}: {score}\\n\")\n",
    "    f.write(\"\\n\")\n",
    "    \n",
    "    if positives:\n",
    "        f.write(\"POSITIVE ASPECTS\\n\")\n",
    "        f.write(\"-\" * 20 + \"\\n\")\n",
    "        for positive in positives:\n",
    "            f.write(f\"• {positive}\\n\")\n",
    "        f.write(\"\\n\")\n",
    "    \n",
    "    if issues:\n",
    "        f.write(\"AREAS OF CONCERN\\n\")\n",
    "        f.write(\"-\" * 20 + \"\\n\")\n",
    "        for issue in issues:\n",
    "            f.write(f\"• {issue}\\n\")\n",
    "        f.write(\"\\n\")\n",
    "    \n",
    "    f.write(\"FILES GENERATED\\n\")\n",
    "    f.write(\"-\" * 20 + \"\\n\")\n",
    "    f.write(f\"• Complete Results (CSV): {csv_path.name}\\n\")\n",
    "    f.write(f\"• Complete Results (Excel): {excel_path.name}\\n\")\n",
    "    f.write(f\"• Complete Results (JSON): {json_path.name}\\n\")\n",
    "    f.write(f\"• Analysis Plot: antibody_analysis_summary.png\\n\")\n",
    "    f.write(f\"• This Report: {report_path.name}\\n\\n\")\n",
    "    \n",
    "    f.write(\"Generated by AbXtract - Antibody Descriptor Analysis Toolkit\\n\")\n",
    "\n",
    "print(f\"📄 Analysis report saved: {report_path}\")"
   ]
  },
  {
   "cell_type": "markdown",
   "metadata": {},
   "source": [
    "## 11. Testing Summary\n",
    "\n",
    "Final summary of all testing performed."
   ]
  },
  {
   "cell_type": "code",
   "execution_count": 39,
   "metadata": {},
   "outputs": [
    {
     "name": "stdout",
     "output_type": "stream",
     "text": [
      "🎉 ABXTRACT TESTING COMPLETED SUCCESSFULLY! 🎉\n",
      "============================================================\n",
      "Analysis Date: 2025-08-28 09:31:40\n",
      "Analysis Type: Sequence + Structure\n",
      "Total Descriptors: 294\n",
      "Results Saved to: /home/HX46_FR5/repo_perso/AbXtract/examples/data/test/results\n",
      "\n",
      "✅ TESTS COMPLETED:\n",
      "   • Configuration system\n",
      "   • Individual calculators\n",
      "   • Sequence analysis\n",
      "   • Structure analysis\n",
      "   • Combined analysis\n",
      "   • Data visualization\n",
      "   • Multiple export formats\n",
      "\n",
      "📊 DESCRIPTOR CATEGORIES TESTED:\n",
      "   • Sequence Properties: 200 descriptors\n",
      "   • Physicochemical: 18 descriptors\n",
      "   • Structural: 3 descriptors\n",
      "   • Liabilities: 2 descriptors\n",
      "   • Charge: 38 descriptors\n",
      "   • Other: 33 descriptors\n",
      "\n",
      "🛠️ EXTERNAL TOOLS STATUS:\n",
      "   • dssp: Available\n",
      "   • propka: Available\n",
      "   • arpeggio: Available\n",
      "   • reduce: Not Available\n",
      "   • muscle: Available\n",
      "\n",
      "📁 OUTPUT FILES:\n",
      "   • analysis_report_20250828_093138.txt\n",
      "   • antibody_analysis_20250828_093138.csv\n",
      "   • antibody_analysis_20250828_093138.json\n",
      "   • antibody_analysis_20250828_093138.xlsx\n",
      "\n",
      "============================================================\n",
      "AbXtract is ready for production use! 🚀\n",
      "For more information, check the generated files and documentation.\n"
     ]
    }
   ],
   "source": [
    "print(\"🎉 ABXTRACT TESTING COMPLETED SUCCESSFULLY! 🎉\")\n",
    "print(\"=\" * 60)\n",
    "print(f\"Analysis Date: {pd.Timestamp.now().strftime('%Y-%m-%d %H:%M:%S')}\")\n",
    "print(f\"Analysis Type: {analysis_type}\")\n",
    "print(f\"Total Descriptors: {len(complete_results.columns)}\")\n",
    "print(f\"Results Saved to: {RESULTS_DIR}\")\n",
    "\n",
    "print(\"\\n✅ TESTS COMPLETED:\")\n",
    "print(\"   • Configuration system\")\n",
    "print(\"   • Individual calculators\")\n",
    "print(\"   • Sequence analysis\")\n",
    "if pdb_available:\n",
    "    print(\"   • Structure analysis\")\n",
    "print(\"   • Combined analysis\")\n",
    "print(\"   • Data visualization\")\n",
    "print(\"   • Multiple export formats\")\n",
    "\n",
    "print(\"\\n📊 DESCRIPTOR CATEGORIES TESTED:\")\n",
    "for category, descriptors in descriptor_categories.items():\n",
    "    if descriptors:\n",
    "        print(f\"   • {category}: {len(descriptors)} descriptors\")\n",
    "\n",
    "print(\"\\n🛠️ EXTERNAL TOOLS STATUS:\")\n",
    "for tool, available in tool_status.items():\n",
    "    status = \"Available\" if available else \"Not Available\"\n",
    "    print(f\"   • {tool}: {status}\")\n",
    "\n",
    "print(\"\\n📁 OUTPUT FILES:\")\n",
    "for file in sorted(RESULTS_DIR.glob(f\"*{timestamp}*\")):\n",
    "    print(f\"   • {file.name}\")\n",
    "\n",
    "print(\"\\n\" + \"=\" * 60)\n",
    "print(\"AbXtract is ready for production use! 🚀\")\n",
    "print(\"For more information, check the generated files and documentation.\")"
   ]
  },
  {
   "cell_type": "code",
   "execution_count": null,
   "metadata": {},
   "outputs": [],
   "source": []
  },
  {
   "cell_type": "code",
   "execution_count": null,
   "metadata": {},
   "outputs": [],
   "source": []
  },
  {
   "cell_type": "code",
   "execution_count": null,
   "metadata": {},
   "outputs": [],
   "source": []
  }
 ],
 "metadata": {
  "environment": {
   "kernel": "abxtract",
   "name": "workbench-notebooks.m130",
   "type": "gcloud",
   "uri": "us-docker.pkg.dev/deeplearning-platform-release/gcr.io/workbench-notebooks:m130"
  },
  "kernelspec": {
   "display_name": "Python (abxtract)",
   "language": "python",
   "name": "abxtract"
  },
  "language_info": {
   "codemirror_mode": {
    "name": "ipython",
    "version": 3
   },
   "file_extension": ".py",
   "mimetype": "text/x-python",
   "name": "python",
   "nbconvert_exporter": "python",
   "pygments_lexer": "ipython3",
   "version": "3.9.23"
  }
 },
 "nbformat": 4,
 "nbformat_minor": 4
}
