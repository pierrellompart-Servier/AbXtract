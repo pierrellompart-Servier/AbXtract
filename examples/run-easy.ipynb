{
 "cells": [
  {
   "cell_type": "markdown",
   "metadata": {},
   "source": [
    "## 1. Setup and Imports {#setup}\n",
    "\n",
    "Let's start by importing all necessary modules and setting up the environment."
   ]
  },
  {
   "cell_type": "code",
   "execution_count": null,
   "metadata": {
    "tags": []
   },
   "outputs": [],
   "source": [
    "import sys\n",
    "import os\n",
    "import pandas as pd\n",
    "import numpy as np\n",
    "import matplotlib.pyplot as plt\n",
    "import seaborn as sns\n",
    "from pathlib import Path\n",
    "import warnings\n",
    "import sys\n",
    "import os\n",
    "abxtract_path = \"/home/HX46_FR5/repo_perso/AbXtract\"\n",
    "sys.path.insert(0, abxtract_path)\n",
    "\n",
    "warnings.filterwarnings('ignore')\n",
    "\n",
    "from AbXtract import *\n",
    "from AbXtract import AntibodyDescriptorCalculator, Config, load_config\n",
    "from AbXtract.sequence import (\n",
    "    SequenceLiabilityAnalyzer,\n",
    "    BashourDescriptorCalculator,\n",
    "    PeptideDescriptorCalculator,\n",
    "    AntibodyNumbering\n",
    ")\n",
    "from AbXtract.structure import (\n",
    "    SASACalculator,\n",
    "    ChargeAnalyzer,\n",
    "    DSSPAnalyzer,\n",
    "    PropkaAnalyzer,\n",
    "    ArpeggioAnalyzer\n",
    ")\n",
    "from AbXtract.utils import (\n",
    "    read_fasta,\n",
    "    write_fasta,\n",
    "    parse_sequence,\n",
    "    validate_sequence\n",
    ")\n",
    "\n",
    "# default configuration\n",
    "custom_config = Config()\n",
    "\n",
    "'''\n",
    "# Test custom configuration\n",
    "custom_config = Config.from_dict({\n",
    "    'pH': 7.4,\n",
    "    'numbering_scheme': 'kabat',\n",
    "    'verbose': True,\n",
    "    'calculate_dssp': tool_status.get('dssp', False),\n",
    "    'calculate_propka': tool_status.get('propka', False),\n",
    "    'calculate_arpeggio': tool_status.get('arpeggio', False)\n",
    "})\n",
    "'''\n",
    "\n",
    "# Check external tool availability\n",
    "tool_status = custom_config.check_external_tools()\n",
    "print(\"🛠️ External Tool Status:\")\n",
    "for tool, available in tool_status.items():\n",
    "    status = \"✅\" if available else \"❌\"\n",
    "    print(f\"  {tool}: {status}\")\n",
    "    \n",
    "# Set up test data paths\n",
    "BASE_DIR = Path.cwd() \n",
    "DATA_DIR = BASE_DIR / \"data\" / \"test\"\n",
    "DATA_DIR.mkdir(parents=True, exist_ok=True)\n",
    "\n",
    "\n",
    "# Define test file paths\n",
    "RESULTS_DIR = DATA_DIR / \"results\"\n",
    "RESULTS_DIR.mkdir(exist_ok=True)\n"
   ]
  },
  {
   "cell_type": "code",
   "execution_count": null,
   "metadata": {},
   "outputs": [],
   "source": []
  },
  {
   "cell_type": "code",
   "execution_count": null,
   "metadata": {},
   "outputs": [],
   "source": []
  },
  {
   "cell_type": "code",
   "execution_count": null,
   "metadata": {},
   "outputs": [],
   "source": []
  },
  {
   "cell_type": "code",
   "execution_count": null,
   "metadata": {},
   "outputs": [],
   "source": [
    "# Test antibody sequences (based on therapeutic antibodies)\n",
    "# Heavy chain: Includes realistic VH domain + human IgG1 constant region\n",
    "HEAVY_SEQUENCE = (\n",
    "    \"QVQLVQSGAEVKKPGASVKVSCKASGGTFSSYAISWVRQAPGQGLEWMG\"\n",
    ")\n",
    "\n",
    "# Light chain: Includes realistic VL domain + human kappa constant region  \n",
    "LIGHT_SEQUENCE = (\n",
    "    \"DIQMTQSPSSLSASVGDRVTITCRASHSISSYLAWYQQKPGKAPKLLIY\"\n",
    ")\n",
    "\n",
    "PDB_FILE = DATA_DIR / \"test.pdb\"  # User will provide this\n",
    "\n"
   ]
  },
  {
   "cell_type": "code",
   "execution_count": null,
   "metadata": {},
   "outputs": [],
   "source": []
  },
  {
   "cell_type": "code",
   "execution_count": null,
   "metadata": {},
   "outputs": [],
   "source": [
    "numbering = AntibodyNumbering() #scheme='imgt')\n",
    "peptide_calc = PeptideDescriptorCalculator()\n",
    "calc = AntibodyDescriptorCalculator(config=custom_config)\n"
   ]
  },
  {
   "cell_type": "code",
   "execution_count": null,
   "metadata": {},
   "outputs": [],
   "source": []
  },
  {
   "cell_type": "code",
   "execution_count": null,
   "metadata": {},
   "outputs": [],
   "source": []
  },
  {
   "cell_type": "code",
   "execution_count": null,
   "metadata": {},
   "outputs": [],
   "source": [
    "heavy_valid, heavy_msg = validate_sequence(HEAVY_SEQUENCE)\n",
    "light_valid, light_msg = validate_sequence(LIGHT_SEQUENCE)\n"
   ]
  },
  {
   "cell_type": "code",
   "execution_count": null,
   "metadata": {},
   "outputs": [],
   "source": []
  },
  {
   "cell_type": "code",
   "execution_count": null,
   "metadata": {},
   "outputs": [],
   "source": []
  },
  {
   "cell_type": "code",
   "execution_count": null,
   "metadata": {},
   "outputs": [],
   "source": [
    "heavy_numbered = numbering.number_sequence(HEAVY_SEQUENCE, 'H')  # Use VH portion only\n",
    "light_numbered = numbering.number_sequence(LIGHT_SEQUENCE, 'L')  # Use VH portion only\n",
    "\n",
    "annotated_H, cdrs_H = numbering.get_cdr_sequences(heavy_numbered, 'H')\n",
    "annotated_L, cdrs_L = numbering.get_cdr_sequences(light_numbered, 'L')\n",
    "\n",
    "heavy_profiles = numbering.get_peptide_profiles(HEAVY_SEQUENCE)\n",
    "light_profiles = numbering.get_peptide_profiles(LIGHT_SEQUENCE)"
   ]
  },
  {
   "cell_type": "code",
   "execution_count": null,
   "metadata": {},
   "outputs": [],
   "source": []
  },
  {
   "cell_type": "code",
   "execution_count": null,
   "metadata": {},
   "outputs": [],
   "source": []
  },
  {
   "cell_type": "code",
   "execution_count": null,
   "metadata": {},
   "outputs": [],
   "source": [
    "peptide_results = peptide_calc.calculate_all(\n",
    "    heavy_sequence=HEAVY_SEQUENCE,\n",
    "    light_sequence=LIGHT_SEQUENCE\n",
    ")\n"
   ]
  },
  {
   "cell_type": "code",
   "execution_count": null,
   "metadata": {},
   "outputs": [],
   "source": []
  },
  {
   "cell_type": "code",
   "execution_count": null,
   "metadata": {},
   "outputs": [],
   "source": [
    "sequence_results, liabilities = calc.calculate_sequence_descriptors(\n",
    "    heavy_sequence=HEAVY_SEQUENCE,\n",
    "    light_sequence=LIGHT_SEQUENCE,\n",
    "    sequence_id=\"TestAb_Sequence\"\n",
    ")"
   ]
  },
  {
   "cell_type": "code",
   "execution_count": null,
   "metadata": {},
   "outputs": [],
   "source": [
    "\n",
    "\n",
    "# Run structure analysis if PDB is available\n",
    "structure_results_seq, structure_results_comp, df_residues = calc.calculate_structure_descriptors(\n",
    "    pdb_file=PDB_FILE,\n",
    "    structure_id=\"TestAb_Structure\"\n",
    ")\n",
    "\n",
    "\n"
   ]
  },
  {
   "cell_type": "code",
   "execution_count": null,
   "metadata": {},
   "outputs": [],
   "source": []
  },
  {
   "cell_type": "code",
   "execution_count": null,
   "metadata": {},
   "outputs": [],
   "source": []
  },
  {
   "cell_type": "code",
   "execution_count": null,
   "metadata": {},
   "outputs": [],
   "source": []
  },
  {
   "cell_type": "code",
   "execution_count": null,
   "metadata": {},
   "outputs": [],
   "source": []
  },
  {
   "cell_type": "code",
   "execution_count": null,
   "metadata": {},
   "outputs": [],
   "source": []
  }
 ],
 "metadata": {
  "environment": {
   "kernel": "abxtract",
   "name": "workbench-notebooks.m130",
   "type": "gcloud",
   "uri": "us-docker.pkg.dev/deeplearning-platform-release/gcr.io/workbench-notebooks:m130"
  },
  "kernelspec": {
   "display_name": "Python (abxtract)",
   "language": "python",
   "name": "abxtract"
  },
  "language_info": {
   "codemirror_mode": {
    "name": "ipython",
    "version": 3
   },
   "file_extension": ".py",
   "mimetype": "text/x-python",
   "name": "python",
   "nbconvert_exporter": "python",
   "pygments_lexer": "ipython3",
   "version": "3.9.23"
  }
 },
 "nbformat": 4,
 "nbformat_minor": 4
}
